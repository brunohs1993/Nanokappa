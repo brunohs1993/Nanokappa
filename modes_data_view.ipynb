{
 "cells": [
  {
   "cell_type": "code",
   "execution_count": 1,
   "metadata": {},
   "outputs": [
    {
     "name": "stderr",
     "output_type": "stream",
     "text": [
      "d:\\LEMTA\\Code\\MultiscaleThermalCond\\classes\\Jitted.py:122: NumbaPerformanceWarning: \u001b[1m\u001b[1m\u001b[1m\u001b[1mnp.dot() is faster on contiguous arrays, called on (array(float64, 1d, A), array(float64, 2d, C))\u001b[0m\u001b[0m\u001b[0m\u001b[0m\n",
      "  prob[iif, :, :] = calculate_diffuse_probs_jit(conc_unique[iif, 0:3], conc_unique[iif, 3], q_all, v_all, rl, data_mesh)\n"
     ]
    }
   ],
   "source": [
    "%matplotlib ipympl\n",
    "\n",
    "import numpy as np\n",
    "import matplotlib.pyplot as plt\n",
    "import os\n",
    "import sys\n",
    "import copy\n",
    "from classes.Geometry import Geometry\n",
    "from classes.Phonon import Phonon\n",
    "from classes.Population import Population"
   ]
  },
  {
   "cell_type": "code",
   "execution_count": 2,
   "metadata": {},
   "outputs": [
    {
     "name": "stdout",
     "output_type": "stream",
     "text": [
      "Reading hdf file...\n",
      "Expanding frequency to FBZ...\n",
      "Expanding group velocity to FBZ...\n",
      "Expanding gamma to FBZ...\n",
      "To describe phonons:\n",
      " nq= 29791\n",
      " nb= 6\n",
      " number of modes= 178746\n",
      "Interpolating lifetime...\n",
      "Generating T = f(E)...\n",
      "Generating p_ref = f(T)...\n",
      "Material initialisation done!\n"
     ]
    }
   ],
   "source": [
    "class args():\n",
    "    def __init__(self):\n",
    "        self.hdf_file       = ['D:\\LEMTA\\Code\\Materials\\Si\\kappa-m313131.hdf5']\n",
    "        self.poscar_file    = ['D:\\LEMTA\\Code\\Materials\\Si\\POSCAR']\n",
    "        self.mat_names      = ['silicon']\n",
    "        self.reference_temp = [295]\n",
    "        self.mat_rotation   = []\n",
    "\n",
    "args = args()\n",
    "\n",
    "phonon = Phonon(args, 0)\n",
    "phonon.load_properties()"
   ]
  },
  {
   "cell_type": "code",
   "execution_count": 3,
   "metadata": {},
   "outputs": [],
   "source": [
    "# Importing data\n",
    "\n",
    "file = 'D:\\LEMTA\\Code\\Results\\z_wire_high_grad_0\\particle_data_400ps.txt'\n",
    "\n",
    "sim_data = np.loadtxt(file, delimiter = ',')\n",
    "\n",
    "sv = 0\n",
    "\n",
    "ind = np.logical_and(sim_data[:, 2] >= sv*2e3/5, sim_data[:, 2] < (sv+1)*2e3/5)\n",
    "\n",
    "sim_data = sim_data[ind, :]\n",
    "\n",
    "sim_mod  = copy.copy(sim_data[:, 0:2])\n",
    "sim_pos  = copy.copy(sim_data[:, 2:5])\n",
    "sim_occ  = copy.copy(sim_data[:, 5  ])\n",
    "\n",
    "del(sim_data)"
   ]
  },
  {
   "cell_type": "code",
   "execution_count": 4,
   "metadata": {},
   "outputs": [
    {
     "data": {
      "application/vnd.jupyter.widget-view+json": {
       "model_id": "3dbd4c90479d4fe8a64a03c40e719d13",
       "version_major": 2,
       "version_minor": 0
      },
      "text/plain": [
       "Canvas(toolbar=Toolbar(toolitems=[('Home', 'Reset original view', 'home', 'home'), ('Back', 'Back to previous …"
      ]
     },
     "metadata": {},
     "output_type": "display_data"
    }
   ],
   "source": [
    "sim_mod = sim_mod.astype(int)\n",
    "sim_omega = phonon.omega[sim_mod[:, 0], sim_mod[:, 1]]\n",
    "\n",
    "g, edges = np.histogram(phonon.omega, bins = 200)\n",
    "centers  = (edges[:-1]+edges[1:])/2\n",
    "\n",
    "plt.close('all')\n",
    "fig, ax = plt.subplots(nrows = 1, ncols = 2, figsize = (10, 5), dpi = 100)\n",
    "\n",
    "# density of states\n",
    "ax[0].hist(sim_omega   , bins = edges, density = True)\n",
    "ax[0].hist(phonon.omega.reshape(-1), bins = edges, density = True, histtype = 'step')\n",
    "ax[0].set_title(r'Density of states $g(\\omega)$')\n",
    "ax[0].legend(['Expected (from phonon data)', 'Simulation (from particle data)'])\n",
    "\n",
    "ax[0].set_xlabel(r'$\\omega$ [THz $\\cdot$ rad]')\n",
    "ax[0].set_ylabel(r'$g(\\omega)$')\n",
    "\n",
    "\n",
    "# omega x occupation\n",
    "\n",
    "n = phonon.calculate_occupation(T = 300.72, omega = centers, reference = True)\n",
    "\n",
    "sim_h = np.zeros(edges.shape[0]-1)\n",
    "for i in range(edges.shape[0]-1):\n",
    "    ind = np.logical_and(sim_omega >= edges[i], sim_omega < edges[i+1])\n",
    "    sim_h[i] = np.sum(sim_occ[ind])\n",
    "\n",
    "\n",
    "ax[1].hist(centers, bins = edges, weights = sim_h, density = True)\n",
    "ax[1].hist(centers, bins = edges, weights = g*n, density = True, histtype = 'step')\n",
    "ax[1].set_title(r'Density of phonons for each frequency $n(\\omega)$')\n",
    "ax[1].legend(['Expected (from phonon data)', 'Simulation (from particle data)'])\n",
    "\n",
    "ax[1].set_xlabel(r'$\\omega$ [THz $\\cdot$ rad]')\n",
    "ax[1].set_ylabel(r'$n(\\omega)$')\n",
    "\n",
    "plt.tight_layout()\n",
    "plt.show()"
   ]
  },
  {
   "cell_type": "code",
   "execution_count": null,
   "metadata": {},
   "outputs": [],
   "source": []
  }
 ],
 "metadata": {
  "kernelspec": {
   "display_name": "Python 3.8.5 64-bit (conda)",
   "metadata": {
    "interpreter": {
     "hash": "6f8ee94c255eb1f45edb80e83721093c1db1e2ea85447c0854292673b957abb8"
    }
   },
   "name": "python3"
  },
  "language_info": {
   "codemirror_mode": {
    "name": "ipython",
    "version": 3
   },
   "file_extension": ".py",
   "mimetype": "text/x-python",
   "name": "python",
   "nbconvert_exporter": "python",
   "pygments_lexer": "ipython3",
   "version": "3.8.8"
  },
  "orig_nbformat": 2
 },
 "nbformat": 4,
 "nbformat_minor": 2
}
