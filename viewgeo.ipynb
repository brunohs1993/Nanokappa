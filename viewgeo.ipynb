{
 "cells": [
  {
   "cell_type": "code",
   "execution_count": 1,
   "metadata": {},
   "outputs": [],
   "source": [
    "%matplotlib ipympl\r\n",
    "\r\n",
    "import trimesh as tm\r\n",
    "import numpy as np\r\n",
    "import matplotlib.pyplot as plt\r\n",
    "from mpl_toolkits.mplot3d import Axes3D"
   ]
  },
  {
   "cell_type": "code",
   "execution_count": 2,
   "metadata": {},
   "outputs": [
    {
     "ename": "ValueError",
     "evalue": "convex compositions require testVHACD installed!",
     "output_type": "error",
     "traceback": [
      "\u001b[1;31m---------------------------------------------------------------------------\u001b[0m",
      "\u001b[1;31mValueError\u001b[0m                                Traceback (most recent call last)",
      "\u001b[1;32m<ipython-input-2-2a9c8966b0db>\u001b[0m in \u001b[0;36m<module>\u001b[1;34m\u001b[0m\n\u001b[0;32m      6\u001b[0m \u001b[0mhull\u001b[0m \u001b[1;33m=\u001b[0m \u001b[0mtm\u001b[0m\u001b[1;33m.\u001b[0m\u001b[0mconvex\u001b[0m\u001b[1;33m.\u001b[0m\u001b[0mconvex_hull\u001b[0m\u001b[1;33m(\u001b[0m\u001b[0mgeo\u001b[0m\u001b[1;33m)\u001b[0m\u001b[1;33m\u001b[0m\u001b[1;33m\u001b[0m\u001b[0m\n\u001b[0;32m      7\u001b[0m \u001b[1;33m\u001b[0m\u001b[0m\n\u001b[1;32m----> 8\u001b[1;33m \u001b[0mhulls\u001b[0m \u001b[1;33m=\u001b[0m \u001b[0mgeo\u001b[0m\u001b[1;33m.\u001b[0m\u001b[0mconvex_decomposition\u001b[0m\u001b[1;33m(\u001b[0m\u001b[1;33m)\u001b[0m\u001b[1;33m\u001b[0m\u001b[1;33m\u001b[0m\u001b[0m\n\u001b[0m\u001b[0;32m      9\u001b[0m \u001b[1;33m\u001b[0m\u001b[0m\n\u001b[0;32m     10\u001b[0m \u001b[1;31m# origins = np.zeros((5, 3))\u001b[0m\u001b[1;33m\u001b[0m\u001b[1;33m\u001b[0m\u001b[1;33m\u001b[0m\u001b[0m\n",
      "\u001b[1;32mD:\\Software\\Anaconda\\envs\\mcphonon\\lib\\site-packages\\trimesh\\base.py\u001b[0m in \u001b[0;36mconvex_decomposition\u001b[1;34m(self, maxhulls, **kwargs)\u001b[0m\n\u001b[0;32m   2606\u001b[0m           \u001b[0mList\u001b[0m \u001b[0mof\u001b[0m \u001b[0mconvex\u001b[0m \u001b[0mmeshes\u001b[0m \u001b[0mthat\u001b[0m \u001b[0mapproximate\u001b[0m \u001b[0mthe\u001b[0m \u001b[0moriginal\u001b[0m\u001b[1;33m\u001b[0m\u001b[1;33m\u001b[0m\u001b[0m\n\u001b[0;32m   2607\u001b[0m         \"\"\"\n\u001b[1;32m-> 2608\u001b[1;33m         result = decomposition.convex_decomposition(self,\n\u001b[0m\u001b[0;32m   2609\u001b[0m                                                     \u001b[0mmaxhulls\u001b[0m\u001b[1;33m=\u001b[0m\u001b[0mmaxhulls\u001b[0m\u001b[1;33m,\u001b[0m\u001b[1;33m\u001b[0m\u001b[1;33m\u001b[0m\u001b[0m\n\u001b[0;32m   2610\u001b[0m                                                     **kwargs)\n",
      "\u001b[1;32mD:\\Software\\Anaconda\\envs\\mcphonon\\lib\\site-packages\\trimesh\\decomposition.py\u001b[0m in \u001b[0;36mconvex_decomposition\u001b[1;34m(mesh, **kwargs)\u001b[0m\n\u001b[0;32m     21\u001b[0m         \u001b[1;32mreturn\u001b[0m \u001b[0minterfaces\u001b[0m\u001b[1;33m.\u001b[0m\u001b[0mvhacd\u001b[0m\u001b[1;33m.\u001b[0m\u001b[0mconvex_decomposition\u001b[0m\u001b[1;33m(\u001b[0m\u001b[0mmesh\u001b[0m\u001b[1;33m,\u001b[0m \u001b[1;33m**\u001b[0m\u001b[0mkwargs\u001b[0m\u001b[1;33m)\u001b[0m\u001b[1;33m\u001b[0m\u001b[1;33m\u001b[0m\u001b[0m\n\u001b[0;32m     22\u001b[0m     \u001b[1;32melse\u001b[0m\u001b[1;33m:\u001b[0m\u001b[1;33m\u001b[0m\u001b[1;33m\u001b[0m\u001b[0m\n\u001b[1;32m---> 23\u001b[1;33m         \u001b[1;32mraise\u001b[0m \u001b[0mValueError\u001b[0m\u001b[1;33m(\u001b[0m\u001b[1;34m'convex compositions require testVHACD installed!'\u001b[0m\u001b[1;33m)\u001b[0m\u001b[1;33m\u001b[0m\u001b[1;33m\u001b[0m\u001b[0m\n\u001b[0m",
      "\u001b[1;31mValueError\u001b[0m: convex compositions require testVHACD installed!"
     ]
    }
   ],
   "source": [
    "# Load Geometry\r\n",
    "\r\n",
    "f = 'std_geo/chien.obj'\r\n",
    "\r\n",
    "geo = tm.load(f)\r\n",
    "hull = tm.convex.convex_hull(geo)\r\n",
    "\r\n",
    "hulls = geo.convex_decomposition()\r\n",
    "\r\n",
    "# origins = np.zeros((5, 3))\r\n",
    "# origins[:, 0] = np.linspace(geo.bounds[0,0]+0.1, geo.bounds[1,0]-0.1, 5)\r\n",
    "# normal = np.array([1, 0, 0])\r\n",
    "\r\n",
    "# slices = []\r\n",
    "\r\n",
    "# for i in range(origins.shape[0]-1):\r\n",
    "#     sl = geo.slice_plane(origins[i, :], normal, cap = True)\r\n",
    "#     sl = sl.slice_plane(origins[i+1, :], -normal, cap = True)\r\n",
    "#     print(i)\r\n",
    "#     slices.append(sl)\r\n",
    "\r\n",
    "# for sl in slices:\r\n",
    "#     sl.color = \r\n",
    "\r\n",
    "scene = tm.Scene(hulls)\r\n",
    "\r\n",
    "scene.show()\r\n",
    "\r\n",
    "\r\n",
    "# ext = tm.creation.extrude_triangulation(hull.vertices, hull.faces, 5)\r\n",
    "# ext.show()\r\n"
   ]
  },
  {
   "cell_type": "code",
   "execution_count": null,
   "metadata": {},
   "outputs": [],
   "source": [
    "# FAST WAY TO GENERATE POINTS IN MESH - TM.SAMPLE.VOLUME_MESH\r\n",
    "\r\n",
    "n = 1000000\r\n",
    "a = np.zeros((0, 3))\r\n",
    "rounds = 0\r\n",
    "while a.shape[0]<n:\r\n",
    "    rounds += 1\r\n",
    "    new_a = tm.sample.volume_mesh(geo, n-a.shape[0])\r\n",
    "    a = np.concatenate((a, new_a), axis = 0)\r\n",
    "\r\n",
    "print('Done, {} rounds.'.format(rounds))"
   ]
  }
 ],
 "metadata": {
  "interpreter": {
   "hash": "7a9614630ef15a98d83892ff5e4e724ff6e26c1e7615c7c1746b6869da135c3d"
  },
  "kernelspec": {
   "display_name": "Python 3.8.8 64-bit ('mcphonon': conda)",
   "name": "python3"
  },
  "language_info": {
   "codemirror_mode": {
    "name": "ipython",
    "version": 3
   },
   "file_extension": ".py",
   "mimetype": "text/x-python",
   "name": "python",
   "nbconvert_exporter": "python",
   "pygments_lexer": "ipython3",
   "version": "3.8.8"
  },
  "orig_nbformat": 4
 },
 "nbformat": 4,
 "nbformat_minor": 2
}